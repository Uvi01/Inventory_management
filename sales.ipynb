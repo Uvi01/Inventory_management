{
  "nbformat": 4,
  "nbformat_minor": 0,
  "metadata": {
    "colab": {
      "name": "sales.ipynb",
      "provenance": [],
      "collapsed_sections": []
    },
    "kernelspec": {
      "name": "python3",
      "display_name": "Python 3"
    },
    "language_info": {
      "name": "python"
    }
  },
  "cells": [
    {
      "cell_type": "code",
      "metadata": {
        "id": "L4fQfZQ8lh9e"
      },
      "source": [
        "#importing the record.json file\n",
        "import json\n",
        "fd=open('record.json','r')\n",
        "r=fd.read()\n",
        "fd.close()\n"
      ],
      "execution_count": 49,
      "outputs": []
    },
    {
      "cell_type": "code",
      "metadata": {
        "id": "2wni9Wr0a6cK"
      },
      "source": [
        "\n",
        "#reading the json file\n",
        "def reading():\n",
        "  fd=open(\"record.json\",'r')\n",
        "  rec=fd.read()\n",
        "  fd.close()\n",
        "  return rec\n",
        "\n",
        "\n",
        "#checking wheather the product is available or not\n",
        "def check_availability(id,q):\n",
        "  rec=json.loads(reading())\n",
        "  for key in rec.keys():\n",
        "    if(id==key and rec[key][\"qn\"]==0 and rec[key][\"qn\"]<q ):\n",
        "      return 0\n",
        "  return 1\n",
        "\n",
        "\n",
        "#function to process user requirement\n",
        "def get():\n",
        "  \n",
        "  id=str(input(\"ENTER THE PRODUCT ID:\"))\n",
        "  quantity=int(input(\"ENTER THE REQUIRED QUANTITY:\"))\n",
        "  if(check_availability(id,quantity)==0):\n",
        "    print(\"....product not available.....\")\n",
        "  else:\n",
        "    rec=json.loads(reading())\n",
        "    bill=rec[id]['pr']*quantity\n",
        "    print(\"....Your bill....\")\n",
        "    print(\"{0}  {1}  {2}\".format(id,rec[id][\"name\"],bill))\n",
        "    sales(id,quantity)\n",
        "    rec[id][\"qn\"]=rec[id]['qn']-quantity\n",
        "    f=open(\"record.json\",'w')\n",
        "    f.write(json.dumps(rec))\n",
        "    f.close()\n",
        "\n",
        "#to generate the sales.json file\n",
        "def sales(i,q):\n",
        "    f=open(\"sales.json\",'r')\n",
        "    sale=json.loads(f.read())\n",
        "    id=len(sale)+1\n",
        "    sale[id]={\"pid\":i,\"qn\":q}\n",
        "    fd=open(\"sales.json\",'w')\n",
        "    fd.write(json.dumps(sale))\n",
        "    fd.close()\n",
        "\n",
        "#To display the list of products present in the inventary\n",
        "def display():\n",
        "  print(\"###########...WELCOME TO INVENTORY...###########\")\n",
        "  print(\"###########...AVAILABLE PRODUCTS...#############\")\n",
        "  print()\n",
        "  data=json.loads(reading())\n",
        "  print(\"id\"+\"   \"+\"Name\"+\"     \"+\"Price\"+\"    \"+\"Weight\")\n",
        "  for key in data:\n",
        "    print(key,data[key]['name'],data[key]['pr'],data[key]['wgt'])\n",
        "  get()\n",
        "    \n",
        "\n"
      ],
      "execution_count": 61,
      "outputs": []
    },
    {
      "cell_type": "code",
      "metadata": {
        "colab": {
          "base_uri": "https://localhost:8080/"
        },
        "id": "ekndeg8E9cTW",
        "outputId": "332e3457-c649-49f0-da6b-5707fa4b4534"
      },
      "source": [
        "display()"
      ],
      "execution_count": 66,
      "outputs": [
        {
          "output_type": "stream",
          "name": "stdout",
          "text": [
            "###########...WELCOME TO INVENTORY...###########\n",
            "###########...AVAILABLE PRODUCTS...#############\n",
            "\n",
            "id   Name     Price    Weight\n",
            "1001 Biscuit 50 500g\n",
            "1002 Chips 10 50g\n",
            "1003 Shampoo 125 200ml\n",
            "1004 Chocolate 10 200g\n",
            "1005 Pen 20 10g\n",
            "1006 Oil 75 1l\n",
            "1007 Bottles 170 20g\n",
            "1008 Cookies 300 50g\n",
            "1009 Raisins 1 50g\n",
            "1010 Lipstick 70 40g\n",
            "1011 Comb 25 2g\n",
            "1012 Band 10 1g\n",
            "1013 Pencil 10 3g\n",
            "1014 Cutter 95 40g\n",
            "1015 Plates 25 50g\n",
            "1016 Hair Gel 200 500l\n",
            "1017 Towel 300 50g\n",
            "1018 Chair 575 500g\n",
            "1019 Frame 170 10g\n",
            "1020 Toys 300 40g\n",
            "1021 Cake 25 50g\n",
            "1022 Ice cream 10 500g\n",
            "1023 Milk 25 1/2l\n",
            "1024 Butter 185 20g\n",
            "1025 Paneer 190 50g\n",
            "1026 Mask 15 2g\n",
            "1027 Soap 170 20g\n",
            "1028 Sauce 30 50l\n",
            "1029 Eggs 90 40g\n",
            "1030 Frozen foods 500 100g\n",
            "ENTER THE PRODUCT ID:1020\n",
            "ENTER THE REQUIRED QUANTITY:10\n",
            "....Your bill....\n",
            "1020  Toys  3000\n"
          ]
        }
      ]
    }
  ]
}