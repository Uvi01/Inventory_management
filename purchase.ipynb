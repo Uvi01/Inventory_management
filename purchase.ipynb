{
  "nbformat": 4,
  "nbformat_minor": 0,
  "metadata": {
    "colab": {
      "name": "purchase.ipynb",
      "provenance": []
    },
    "kernelspec": {
      "name": "python3",
      "display_name": "Python 3"
    },
    "language_info": {
      "name": "python"
    }
  },
  "cells": [
    {
      "cell_type": "code",
      "metadata": {
        "id": "nRI5BHqQWAov"
      },
      "source": [
        "#initializing the json file\n",
        "import json\n",
        "fd=open('record.json','r')\n",
        "r=fd.read()\n",
        "fd.close()\n",
        "rec=json.loads(r)"
      ],
      "execution_count": 5,
      "outputs": []
    },
    {
      "cell_type": "code",
      "metadata": {
        "id": "EGc9Odq8ZL_7"
      },
      "source": [
        "def reading():\n",
        "  fd=open(\"record.json\",'r')\n",
        "  rec=fd.read()\n",
        "  fd.close()\n",
        "  return rec\n"
      ],
      "execution_count": 6,
      "outputs": []
    },
    {
      "cell_type": "code",
      "metadata": {
        "id": "ujCAHspQXNry"
      },
      "source": [
        "def purchase():\n",
        "  prod_id=int(input(\"enter the product id:\"))\n",
        "  name=input(\"enter the product name:\")\n",
        "  price=int(input(\"enter the price:\"))\n",
        "  quantity=int(input(\"enter the quantity:\"))\n",
        "  rec[prod_id]={\"name\":name,\"pn\":quantity,\"pr\":price}\n",
        "  j=json.dumps(rec)\n",
        "  f=open(\"record.json\",'w')\n",
        "  f.write(j)\n",
        "  f.close()"
      ],
      "execution_count": 7,
      "outputs": []
    },
    {
      "cell_type": "code",
      "metadata": {
        "id": "FgNDzx9wYgh9"
      },
      "source": [
        "#checking the quantity\n",
        "def check():\n",
        "  rec=json.loads(reading())\n",
        "  for key in rec.keys():\n",
        "    if(rec[key]['qn']==0):\n",
        "      print(\"....Update the stocks of {0}...\".format(key))\n",
        "      n=input(\"need to continue Y/n:\")\n",
        "      if(n==\"Y\" or n==\"y\"):\n",
        "        rec[key]['qn']=int(input(\"enter the quantity\"))\n",
        "    else:\n",
        "      continue"
      ],
      "execution_count": 8,
      "outputs": []
    },
    {
      "cell_type": "code",
      "metadata": {
        "id": "7NkB1Gi5iutM"
      },
      "source": [
        "def display():\n",
        "  print(\".........WELCOME TO INVENTORY MANAGEMENT.......\")\n",
        "  print(\"\"\"1.purchase\n",
        "  2.check the available quantity\"\"\")\n",
        "  choice=int(input(\"enter the choice\"))\n",
        "  if(choice==1):\n",
        "    purchase()\n",
        "  elif(choice==2):\n",
        "    check()\n",
        "  else:\n",
        "    print(\"entered wrong choice\")\n",
        "  \n",
        "\n"
      ],
      "execution_count": 9,
      "outputs": []
    },
    {
      "cell_type": "code",
      "metadata": {
        "id": "jvnP9kveGXdZ"
      },
      "source": [
        "display()"
      ],
      "execution_count": null,
      "outputs": []
    }
  ]
}